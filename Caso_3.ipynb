{
 "cells": [
  {
   "cell_type": "markdown",
   "metadata": {
    "application/vnd.databricks.v1+cell": {
     "cellMetadata": {},
     "inputWidgets": {},
     "nuid": "1f826429-1b0b-452b-98d5-d724d06f8ba3",
     "showTitle": false,
     "tableResultSettingsMap": {},
     "title": ""
    }
   },
   "source": [
    "# Explorando tendencias de mercado de Airbnb"
   ]
  },
  {
   "cell_type": "markdown",
   "metadata": {
    "application/vnd.databricks.v1+cell": {
     "cellMetadata": {},
     "inputWidgets": {},
     "nuid": "30017573-ddfa-442e-931f-69e52cab3f33",
     "showTitle": false,
     "tableResultSettingsMap": {},
     "title": ""
    }
   },
   "source": [
    "La ciudad de Nueva York tiene una variedad de anuncios de Airbnb para satisfacer la alta demanda de alojamiento temporal para viajeros, con diferentes niveles de precios, tipos de habitaciones y ubicaciones."
   ]
  },
  {
   "cell_type": "markdown",
   "metadata": {
    "application/vnd.databricks.v1+cell": {
     "cellMetadata": {},
     "inputWidgets": {},
     "nuid": "dd36a486-5cfb-4f62-bc1a-d47685d6e032",
     "showTitle": false,
     "tableResultSettingsMap": {},
     "title": ""
    }
   },
   "source": [
    "dbfs:/FileStore/shared_uploads/mario.martin@tajamar365.com/airbnb_last_review.tsv\n",
    "\n",
    "dbfs:/FileStore/shared_uploads/mario.martin@tajamar365.com/airbnb_price.csv\n",
    "\n",
    "dbfs:/FileStore/shared_uploads/mario.martin@tajamar365.com/airbnb_room_type.csv"
   ]
  },
  {
   "cell_type": "markdown",
   "metadata": {
    "application/vnd.databricks.v1+cell": {
     "cellMetadata": {},
     "inputWidgets": {},
     "nuid": "9113a8f5-7192-4887-b383-2d285a405f0f",
     "showTitle": false,
     "tableResultSettingsMap": {},
     "title": ""
    }
   },
   "source": [
    "La ciudad de Nueva York, es una de las ciudades más visitadas del mundo. Hay muchos anuncios de Airbnb en la ciudad de Nueva York para satisfacer la alta demanda de alojamiento temporal para viajeros, que puede durar desde unas pocas noches hasta muchos meses. En este proyecto, analizaremos más de cerca el mercado de Airbnb de Nueva York combinando datos de varios tipos de archivos como .csv, .tsv y .xlsx.\n",
    "\n",
    "Recuerde que los archivos CSV, TSV y Excel son tres formatos comunes para almacenar datos. Tiene a su disposición [tres archivos](https://tajamar365.sharepoint.com/:f:/s/3405-MasterIA2024-2025/EoXMgjAJLLNJqWDyKDig8kABSUkpWj_HGQjl267qNnHS9g?e=foxjFc) que contienen datos sobre los anuncios de Airbnb de 2019:  \n",
    "\n",
    "- `airbnb_price.csv `: Este es un archivo CSV que contiene datos sobre precios y ubicaciones de anuncios de Airbnb.  \n",
    "  1. `listing_id`: identificador único del anuncio  \n",
    "  2. `price`: precio del anuncio por noche en USD  \n",
    "  3. `nbhood_full`: nombre del distrito y del barrio donde se encuentra el anuncio  \n",
    "    \n",
    "\n",
    "- `airbnb_room_type.xlsx`: Este es un archivo Excel que contiene datos sobre las descripciones de los anuncios de Airbnb y los tipos de habitaciones.  \n",
    "  1. `listing_id`: identificador único del anuncio  \n",
    "  2. `description`: descripción del anuncio     \n",
    "  3. `room_type`: Airbnb tiene tres tipos de habitaciones: habitaciones compartidas, habitaciones privadas y casas o apartamentos completos \n",
    "\n",
    "\n",
    "- `airbnb_last_review.tsv`: Este es un archivo TSV que contiene datos sobre los nombres de los anfitriones de Airbnb y las fechas de revisión.  \n",
    "  1. `listing_id`: identificador único del anuncio  \n",
    "  2. `host_name`:  nombre del anfitrión del anuncio  \n",
    "  3. `last_review`: echa en la que se revisó el anuncio por última vez   "
   ]
  },
  {
   "cell_type": "markdown",
   "metadata": {
    "application/vnd.databricks.v1+cell": {
     "cellMetadata": {},
     "inputWidgets": {},
     "nuid": "bab5e15d-251d-4092-9ec3-61f8a0d84f43",
     "showTitle": false,
     "tableResultSettingsMap": {},
     "title": ""
    }
   },
   "source": [
    "Como consultor que trabaja para una empresa inmobiliaria emergente, ha recopilado datos de anuncios de Airbnb de varias fuentes para investigar el mercado de alquileres a corto plazo en Nueva York. Analizará estos datos para brindar información sobre habitaciones privadas a la empresa inmobiliaria."
   ]
  },
  {
   "cell_type": "markdown",
   "metadata": {
    "application/vnd.databricks.v1+cell": {
     "cellMetadata": {},
     "inputWidgets": {},
     "nuid": "3db66806-50c8-46b2-ab8b-fb66b3602f7d",
     "showTitle": false,
     "tableResultSettingsMap": {},
     "title": ""
    }
   },
   "source": [
    "- ¿Cuáles son las fechas de las primeras y las últimas reseñas? Almacene estos valores como dos variables independientes con los nombres que prefiera.\n",
    "- ¿Cuántos de los anuncios son habitaciones privadas? Guárdelo en cualquier variable.\n",
    "- ¿Cuál es el precio promedio de los anuncios? Redondee a los dos decimales más cercanos y guárdelo en una variable.\n",
    "- Combine las nuevas variables en un DataFrame llamado review_dates con cuatro columnas en el siguiente orden: first_reviewed, last_reviewed, nb_private_rooms y avg_price. El DataFrame solo debe contener una fila de valores."
   ]
  },
  {
   "cell_type": "markdown",
   "metadata": {
    "application/vnd.databricks.v1+cell": {
     "cellMetadata": {},
     "inputWidgets": {},
     "nuid": "6499e988-7938-4bef-b33c-6ab11d92c32f",
     "showTitle": false,
     "tableResultSettingsMap": {},
     "title": ""
    }
   },
   "source": [
    "## CARGAR ARCHIVO TSV"
   ]
  },
  {
   "cell_type": "code",
   "execution_count": 0,
   "metadata": {
    "application/vnd.databricks.v1+cell": {
     "cellMetadata": {
      "byteLimit": 2048000,
      "rowLimit": 10000
     },
     "inputWidgets": {},
     "nuid": "e05fea66-f03d-4257-858a-bb51fcf6f60f",
     "showTitle": false,
     "tableResultSettingsMap": {},
     "title": ""
    }
   },
   "outputs": [
    {
     "output_type": "stream",
     "name": "stdout",
     "output_type": "stream",
     "text": [
      "+----------+----------------+---------------+\n|listing_id|       host_name|    last_review|\n+----------+----------------+---------------+\n|      2595|        Jennifer|    May 21 2019|\n|      3831|     LisaRoxanne|   July 05 2019|\n|      5099|           Chris|   June 22 2019|\n|      5178|        Shunichi|   June 24 2019|\n|      5238|             Ben|   June 09 2019|\n|      5295|            Lena|   June 22 2019|\n|      5441|            Kate|   June 23 2019|\n|      5803|          Laurie|   June 24 2019|\n|      6021|         Claudio|   July 05 2019|\n|      6848|   Allen & Irina|   June 29 2019|\n|      7097|            Jane|   June 28 2019|\n|      7322|            Doti|   July 01 2019|\n|      7726|Adam And Charity|   June 22 2019|\n|      8024|           Lisel|   July 01 2019|\n|      8025|           Lisel|January 01 2019|\n|      8110|           Lisel|   July 02 2019|\n|      8490|        Nathalie|   June 19 2019|\n|      8505|         Gregory|   June 23 2019|\n|      9518|            Shon|   June 15 2019|\n|      9657|            Dana|  April 19 2019|\n+----------+----------------+---------------+\nonly showing top 20 rows\n\n"
     ]
    }
   ],
   "source": [
    "last_review_df = spark.read.option(\"delimiter\", \"\\t\").csv(\"dbfs:/FileStore/shared_uploads/mario.martin@tajamar365.com/airbnb_last_review.tsv\", header=True, inferSchema=True)\n",
    "last_review_df.show()"
   ]
  },
  {
   "cell_type": "markdown",
   "metadata": {
    "application/vnd.databricks.v1+cell": {
     "cellMetadata": {},
     "inputWidgets": {},
     "nuid": "e1a6eb46-513f-4795-95c1-13c4d5b489c0",
     "showTitle": false,
     "tableResultSettingsMap": {},
     "title": ""
    }
   },
   "source": [
    "## CARGAR CSV"
   ]
  },
  {
   "cell_type": "code",
   "execution_count": 0,
   "metadata": {
    "application/vnd.databricks.v1+cell": {
     "cellMetadata": {
      "byteLimit": 2048000,
      "rowLimit": 10000
     },
     "inputWidgets": {},
     "nuid": "af0c6e30-4df2-446c-af55-93e25b60cdd2",
     "showTitle": false,
     "tableResultSettingsMap": {},
     "title": ""
    }
   },
   "outputs": [
    {
     "output_type": "stream",
     "name": "stdout",
     "output_type": "stream",
     "text": [
      "+----------+-----------+--------------------+\n|listing_id|      price|         nbhood_full|\n+----------+-----------+--------------------+\n|      2595|225 dollars|  Manhattan, Midtown|\n|      3831| 89 dollars|Brooklyn, Clinton...|\n|      5099|200 dollars|Manhattan, Murray...|\n|      5178| 79 dollars|Manhattan, Hell's...|\n|      5238|150 dollars|Manhattan, Chinatown|\n|      5295|135 dollars|Manhattan, Upper ...|\n|      5441| 85 dollars|Manhattan, Hell's...|\n|      5803| 89 dollars|Brooklyn, South S...|\n|      6021| 85 dollars|Manhattan, Upper ...|\n|      6848|140 dollars|Brooklyn, William...|\n|      7097|215 dollars|Brooklyn, Fort Gr...|\n|      7322|140 dollars|  Manhattan, Chelsea|\n|      7726| 99 dollars|Brooklyn, Crown H...|\n|      8024|130 dollars|Brooklyn, Park Slope|\n|      8025| 80 dollars|Brooklyn, Park Slope|\n|      8110|110 dollars|Brooklyn, Park Slope|\n|      8490|120 dollars|Brooklyn, Bedford...|\n|      8505| 60 dollars|Brooklyn, Windsor...|\n|      9518| 44 dollars|   Manhattan, Inwood|\n|      9657|180 dollars|Manhattan, East V...|\n+----------+-----------+--------------------+\nonly showing top 20 rows\n\n"
     ]
    }
   ],
   "source": [
    "price_df = spark.read.csv(\"dbfs:/FileStore/shared_uploads/mario.martin@tajamar365.com/airbnb_price.csv\", header=True, inferSchema=True)\n",
    "price_df.show()"
   ]
  },
  {
   "cell_type": "markdown",
   "metadata": {
    "application/vnd.databricks.v1+cell": {
     "cellMetadata": {},
     "inputWidgets": {},
     "nuid": "f3c3aabf-a05c-4fb0-9254-dd357c7c22e0",
     "showTitle": false,
     "tableResultSettingsMap": {},
     "title": ""
    }
   },
   "source": [
    "## Leer el excel cambiado a csv"
   ]
  },
  {
   "cell_type": "code",
   "execution_count": 0,
   "metadata": {
    "application/vnd.databricks.v1+cell": {
     "cellMetadata": {
      "byteLimit": 2048000,
      "rowLimit": 10000
     },
     "inputWidgets": {},
     "nuid": "3f233c7b-7cca-4346-bf5a-d2ccac9a4165",
     "showTitle": false,
     "tableResultSettingsMap": {},
     "title": ""
    }
   },
   "outputs": [
    {
     "output_type": "stream",
     "name": "stdout",
     "output_type": "stream",
     "text": [
      "+----------+--------------------+---------------+\n|listing_id|         description|      room_type|\n+----------+--------------------+---------------+\n|      2595|Skylit Midtown Ca...|Entire home/apt|\n|      3831|Cozy Entire Floor...|Entire home/apt|\n|      5099|Large Cozy 1 BR A...|Entire home/apt|\n|      5178|Large Furnished R...|   private room|\n|      5238|Cute & Cozy Lower...|Entire home/apt|\n|      5295|Beautiful 1br on ...|Entire home/apt|\n|      5441|Central Manhattan...|   Private room|\n|      5803|Lovely Room 1, Ga...|   Private room|\n|      6021|Wonderful Guest B...|   Private room|\n|      6848|Only 2 stops to M...|entire home/apt|\n|      7097|Perfect for Your ...|Entire home/apt|\n|      7322|     Chelsea Perfect|   Private room|\n|      7726|Hip Historic Brow...|Entire home/apt|\n|      8024|CBG CtyBGd HelpsH...|   PRIVATE ROOM|\n|      8025|CBG Helps Haiti R...|   PRIVATE ROOM|\n|      8110|CBG Helps Haiti R...|   Private room|\n|      8490|MAISON DES SIRENE...|Entire home/apt|\n|      8505|Sunny Bedroom Acr...|   Private room|\n|      9518|SPACIOUS, LOVELY ...|   PRIVATE ROOM|\n|      9657|Modern 1 BR / NYC...|entire home/apt|\n+----------+--------------------+---------------+\nonly showing top 20 rows\n\n"
     ]
    }
   ],
   "source": [
    "from pyspark.sql import functions as F\n",
    "\n",
    "room_type_df = spark.read.csv(\"/FileStore/shared_uploads/mario.martin@tajamar365.com/airbnb_room_type.csv\", header=True, inferSchema=True)\n",
    "\n",
    "# Es importante limpiar las comillas de las columnas\n",
    "\n",
    "room_type_df = room_type_df.select(\n",
    "    [F.regexp_replace(F.col(col), '\"', '').alias(col) for col in room_type_df.columns]\n",
    ")\n",
    "\n",
    "#Mostrar las primeras filas del Dataframe\n",
    "\n",
    "room_type_df.show()"
   ]
  },
  {
   "cell_type": "code",
   "execution_count": 0,
   "metadata": {
    "application/vnd.databricks.v1+cell": {
     "cellMetadata": {
      "byteLimit": 2048000,
      "rowLimit": 10000
     },
     "inputWidgets": {},
     "nuid": "6d9c76f8-77c9-432c-9840-6a5fc40c2887",
     "showTitle": false,
     "tableResultSettingsMap": {},
     "title": ""
    }
   },
   "outputs": [
    {
     "output_type": "stream",
     "name": "stdout",
     "output_type": "stream",
     "text": [
      "+--------------+-------------+----------------+\n|first_reviewed|last_reviewed|nb_private_rooms|\n+--------------+-------------+----------------+\n| April 01 2019|  May 31 2019|            1228|\n+--------------+-------------+----------------+\n\n"
     ]
    }
   ],
   "source": [
    "from pyspark.sql import functions as F\n",
    "\n",
    "# Cargar los archivos CSV y TSV\n",
    "last_review_df = spark.read.option(\"delimiter\", \"\\t\").csv(\"dbfs:/FileStore/shared_uploads/mario.martin@tajamar365.com/airbnb_last_review.tsv\", header=True, inferSchema=True)\n",
    "price_df = spark.read.csv(\"dbfs:/FileStore/shared_uploads/mario.martin@tajamar365.com/airbnb_price.csv\", header=True, inferSchema=True)\n",
    "room_type_df = spark.read.csv(\"/FileStore/shared_uploads/mario.martin@tajamar365.com/airbnb_room_type.csv\", header=True, inferSchema=True)\n",
    "\n",
    "# Limpiar las comillas de las columnas de room_type_df\n",
    "room_type_df = room_type_df.select([F.regexp_replace(F.col(col), '\"', '').alias(col) for col in room_type_df.columns])\n",
    "\n",
    "# Obtener la primera y última fecha de reseña, con comprobación de None\n",
    "first_reviewed = last_review_df.agg(F.min(\"last_review\")).collect()[0][0]\n",
    "last_reviewed = last_review_df.agg(F.max(\"last_review\")).collect()[0][0]\n",
    "\n",
    "# Si las fechas son None, asignamos un valor por defecto (por ejemplo, 'N/A')\n",
    "if first_reviewed is None:\n",
    "    first_reviewed = 'N/A'\n",
    "if last_reviewed is None:\n",
    "    last_reviewed = 'N/A'\n",
    "\n",
    "# Contar cuántos anuncios son habitaciones privadas\n",
    "nb_private_rooms = room_type_df.filter(F.col(\"room_type\") == \"Private room\").count()\n",
    "\n",
    "# Calcular el precio promedio de los anuncios\n",
    "# avg_price = price_df.agg(F.avg(\"price\")).collect()[0][0]\n",
    "# avg_price = round(avg_price, 2)\n",
    "\n",
    "# Crear el DataFrame final, manejando posibles valores nulos con F.lit\n",
    "review_dates = spark.createDataFrame([(first_reviewed, last_reviewed, nb_private_rooms)], \n",
    "                                     [\"first_reviewed\", \"last_reviewed\", \"nb_private_rooms\"])\n",
    "\n",
    "# Mostrar el DataFrame final\n",
    "review_dates.show()\n"
   ]
  }
 ],
 "metadata": {
  "application/vnd.databricks.v1+notebook": {
   "dashboards": [],
   "environmentMetadata": null,
   "language": "python",
   "notebookMetadata": {
    "pythonIndentUnit": 4
   },
   "notebookName": "Caso_3",
   "widgets": {}
  }
 },
 "nbformat": 4,
 "nbformat_minor": 0
}
